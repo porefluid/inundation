{
 "cells": [
  {
   "cell_type": "code",
   "execution_count": 178,
   "metadata": {},
   "outputs": [],
   "source": [
    "import ee\n",
    "import os\n",
    "import time\n",
    "import glob\n",
    "import logging\n",
    "import requests\n",
    "import threading\n",
    "import pandas as pd\n",
    "from tqdm import tqdm\n",
    "import matplotlib.pyplot as plt"
   ]
  },
  {
   "cell_type": "code",
   "execution_count": 2,
   "metadata": {},
   "outputs": [
    {
     "data": {
      "text/html": [
       "<p>To authorize access needed by Earth Engine, open the following\n",
       "        URL in a web browser and follow the instructions:</p>\n",
       "        <p><a href=https://accounts.google.com/o/oauth2/auth?client_id=517222506229-vsmmajv00ul0bs7p89v5m89qs8eb9359.apps.googleusercontent.com&scope=https%3A%2F%2Fwww.googleapis.com%2Fauth%2Fearthengine+https%3A%2F%2Fwww.googleapis.com%2Fauth%2Fdevstorage.full_control&redirect_uri=urn%3Aietf%3Awg%3Aoauth%3A2.0%3Aoob&response_type=code&code_challenge=_CHR4aCxIyoS2GBk2Kdt8xxWL8kAAG9vlz_4N50JrE4&code_challenge_method=S256>https://accounts.google.com/o/oauth2/auth?client_id=517222506229-vsmmajv00ul0bs7p89v5m89qs8eb9359.apps.googleusercontent.com&scope=https%3A%2F%2Fwww.googleapis.com%2Fauth%2Fearthengine+https%3A%2F%2Fwww.googleapis.com%2Fauth%2Fdevstorage.full_control&redirect_uri=urn%3Aietf%3Awg%3Aoauth%3A2.0%3Aoob&response_type=code&code_challenge=_CHR4aCxIyoS2GBk2Kdt8xxWL8kAAG9vlz_4N50JrE4&code_challenge_method=S256</a></p>\n",
       "        <p>The authorization workflow will generate a code, which you\n",
       "        should paste in the box below</p>\n",
       "        "
      ],
      "text/plain": [
       "<IPython.core.display.HTML object>"
      ]
     },
     "metadata": {},
     "output_type": "display_data"
    },
    {
     "name": "stdin",
     "output_type": "stream",
     "text": [
      "Enter verification code:  4/1AX4XfWhPXLUyShN4-SK5APHCJUk1qPtH0rqwlU6yBzqK6TZ7didHI19E16A\n"
     ]
    },
    {
     "name": "stdout",
     "output_type": "stream",
     "text": [
      "\n",
      "Successfully saved authorization token.\n"
     ]
    }
   ],
   "source": [
    "# Authenticate to earth engine\n",
    "\n",
    "ee.Authenticate()"
   ]
  },
  {
   "cell_type": "code",
   "execution_count": 143,
   "metadata": {},
   "outputs": [],
   "source": [
    "# Initialize earth engine connection\n",
    "\n",
    "ee.Initialize()"
   ]
  },
  {
   "cell_type": "code",
   "execution_count": 4,
   "metadata": {},
   "outputs": [],
   "source": [
    "# Set destination folder paths for results and figures\n",
    "\n",
    "results_dir = os.path.join(os.getcwd().replace('/code', ''), 'results')\n",
    "fig_dir = os.path.join(os.getcwd().replace('/code', ''), 'figures')"
   ]
  },
  {
   "cell_type": "code",
   "execution_count": 187,
   "metadata": {},
   "outputs": [],
   "source": [
    "## Export Region \n",
    "\n",
    "export_region = ee.Feature(ee.Geometry.Polygon(\n",
    "        [[[78.64071726130534, 29.650172117335046],\n",
    "          [78.64071726130534, 29.491613739360353],\n",
    "          [78.88138651179362, 29.491613739360353],\n",
    "          [78.88138651179362, 29.650172117335046]]])).set({'basin_id': 'test_id'})"
   ]
  },
  {
   "cell_type": "code",
   "execution_count": 186,
   "metadata": {},
   "outputs": [
    {
     "data": {
      "text/plain": [
       "<ee.feature.Feature at 0x7fbe61a9c430>"
      ]
     },
     "execution_count": 186,
     "metadata": {},
     "output_type": "execute_result"
    }
   ],
   "source": []
  },
  {
   "cell_type": "markdown",
   "metadata": {},
   "source": [
    "### Import Sentinel-1 collection and watershed basin shapefile"
   ]
  },
  {
   "cell_type": "code",
   "execution_count": 168,
   "metadata": {},
   "outputs": [],
   "source": [
    "# Import image and feature colelctions\n",
    "\n",
    "s1 = ee.ImageCollection(\"COPERNICUS/S1_GRD\")\n",
    "basins = ee.FeatureCollection(\"users/coreyscher/se-asia_subbasin_01min\")\n",
    "major_basins = ee.FeatureCollection(\"users/coreyscher/se-asia_basins_01min\")\n",
    "lulc = ee.Image('users/coreyscher/all_lcmaps_v3_2018_proj')\n",
    "\n",
    "## create a log file to track progress\n",
    "\n",
    "logging.basicConfig(filename=\"logfilename.log\", level=logging.INFO)"
   ]
  },
  {
   "cell_type": "code",
   "execution_count": 6,
   "metadata": {},
   "outputs": [],
   "source": [
    "# LULC classes\n",
    "\n",
    "classes = {'forest_evergreen': 2,\n",
    "          'forest_decisuous': 4,\n",
    "          'forest_mixed': 5,\n",
    "          'water': 25,\n",
    "          'urban': 13,\n",
    "          'barren': 16,\n",
    "          'grass': 10,\n",
    "          'savannah' : 9,\n",
    "          'ag_rice': 17,\n",
    "          'ag_plantation': 18,\n",
    "          'ag_pasture_crop': 12,\n",
    "          'ag_aquaculture': 21,\n",
    "          'wetland_wetland': 11,\n",
    "          'wetland_mangrove': 19,\n",
    "          'wetland_flooded_forest': 20,\n",
    "          'unclassified': 0}"
   ]
  },
  {
   "cell_type": "code",
   "execution_count": 239,
   "metadata": {},
   "outputs": [],
   "source": [
    "## Set threshold variables \n",
    "\n",
    "threshold = -2\n",
    "vvOwThreshold = -18\n",
    "vhOwThreshold = -20\n",
    "connThreshold = 20"
   ]
  },
  {
   "cell_type": "code",
   "execution_count": 169,
   "metadata": {},
   "outputs": [],
   "source": [
    "## Get a list of basins to iterate over\n",
    "\n",
    "basins_ids = basins.aggregate_array('ID').getInfo()\n",
    "major_basin_ids = major_basins.aggregate_array('ID').getInfo()"
   ]
  },
  {
   "cell_type": "code",
   "execution_count": 256,
   "metadata": {},
   "outputs": [],
   "source": [
    "# Descending track algorithm\n",
    "\n",
    "result = None\n",
    "\n",
    "def run_sub_basin(shape, studyStart, studyEnd):\n",
    "    \n",
    "    results = []\n",
    "    studyArea = export_region\n",
    "    \n",
    "    # ----Separate S1 by orbit type ---------------------\n",
    "    s1A = s1.filterBounds(studyArea.geometry())\\\n",
    "    .filter(ee.Filter.listContains('transmitterReceiverPolarisation', 'VV'))\\\n",
    "    .filter(ee.Filter.listContains('transmitterReceiverPolarisation', 'VH'))\\\n",
    "    .filter(ee.Filter.eq('instrumentMode', 'IW')).filterDate(studyStart, studyEnd).filter(ee.Filter.eq('orbitProperties_pass', 'ASCENDING'))\n",
    "    s1D = s1.filterBounds(studyArea.geometry())\\\n",
    "    .filter(ee.Filter.listContains('transmitterReceiverPolarisation', 'VV'))\\\n",
    "    .filter(ee.Filter.listContains('transmitterReceiverPolarisation', 'VH'))\\\n",
    "    .filter(ee.Filter.eq('instrumentMode', 'IW')).filterDate(studyStart, studyEnd).filter(ee.Filter.eq('orbitProperties_pass', 'DESCENDING'))\n",
    "    # --------------------------------------------------------------\n",
    "    \n",
    "    image_dates = s1D.aggregate_array('system:time_start')\n",
    "    \n",
    "    # Map over images in collection and meadian window filter with 15 meter radius\n",
    "    def medianFilt(image):\n",
    "        return image.focalMedian(15, 'square', 'meters').clip(studyArea).copyProperties(image)\n",
    "    \n",
    "    ## map median filter over the input collection\n",
    "    \n",
    "    s1D = s1D.map(medianFilt)\n",
    "\n",
    "    # Calculate baseline statistics for annual backscatter\n",
    "    \n",
    "    def minMax(pol):\n",
    "        \n",
    "        #Define the collection\n",
    "        coll = s1D.select([pol])        \n",
    "        \n",
    "        #Turn the input polarization element into a string for concatenation\n",
    "        \n",
    "        pol = ee.String(pol)\n",
    "        \n",
    "        # Calculate min, max, mean, and stdDev backscatter by input polarization\n",
    "        mn = coll.min().rename([pol.cat('_min')])\n",
    "        mx = coll.max().rename([pol.cat('_max')])\n",
    "        mean = coll.mean().rename([pol.cat('_mean')])\n",
    "        std = coll.reduce(ee.Reducer.stdDev()).rename([pol.cat('_std')])\n",
    "        \n",
    "        #Calcaulate z score\n",
    "        \n",
    "        dif = mx.subtract(mn).rename([pol.cat('_dif')])\n",
    "        z = dif.divide(std).rename([pol.cat('_z')])\n",
    "        return mx.addBands([mn, mean, std, dif, z]).set({'pol': pol}).toFloat()\n",
    "    \n",
    "    # Apply minMax to each polarization in the collection\n",
    "    vh_stats = minMax('VH')\n",
    "    vv_stats = minMax('VV')\n",
    "\n",
    "    # Make a z-score mask for areas that do not have a minimum two standard deviations below the mean annual backscatter\n",
    "    vvZMask = vv_stats.select(['VV_z']).gt(2)\n",
    "    vhZMask = vh_stats.select(['VH_z']).gt(2)\n",
    "    \n",
    "    # Function for defining open water on a per-image basis\n",
    "    def openWaterClass(image):\n",
    "        \n",
    "        #set the image class for GEE\n",
    "        image = ee.Image(image)\n",
    "        \n",
    "        #Classify each image for open water based on the fixed threshold for each polarization\n",
    "        \n",
    "        # Comment out co-polarized data for testing with cross-polarized only\n",
    "        #vv = image.select(['VV']).lt(vvOwThreshold)\n",
    "        \n",
    "        vh = ee.Image(image).select(['VH']).lt(vhOwThreshold)\n",
    "        \n",
    "        #Construct a mask for \"open water\" areas that are smaller than the threshold for connected pixels\n",
    "        \n",
    "        #vvAreaMask = vv.connectedPixelCount(1024, 'false').gt(connThreshold)\n",
    "        vhAreaMask = vh.connectedPixelCount(1024, False).gt(connThreshold)\n",
    "\n",
    "        #vv = vv.updateMask(vv.neq(0)).updateMask(vvZMask).updateMask(vvAreaMask)\n",
    "        vh = vh.updateMask(vh.neq(0)).updateMask(vhZMask).updateMask(vhAreaMask)\n",
    "\n",
    "        #Make a band corresponding to each LULC class from the Boston dataset\n",
    "        \n",
    "        ag_rice = vh.updateMask(lulc.eq(17))\n",
    "        ag_aquaculture = vh.updateMask(lulc.eq(21))\n",
    "        wetland_wetland = vh.updateMask(lulc.eq(11))\n",
    "        wetland_mangrove = vh.updateMask(lulc.eq(19))\n",
    "        wetland_flooded_forest = vh.updateMask(lulc.eq(20))\n",
    "        water = vh.updateMask(lulc.eq(25))\n",
    "        \n",
    "        # For now, omit the land cover classes where we wouldn't expect regular, seasonal inundation\n",
    "        \n",
    "        #ag_plantation = vh.updateMask(lulc.eq(18))\n",
    "        #ag_pasture_crop = vh.updateMask(lulc.eq(12))\n",
    "        #urban = vh.updateMask(lulc.eq(13))\n",
    "        #barren = vh.updateMask(lulc.eq(16))\n",
    "        #grass = vh.updateMask(lulc.eq(10))\n",
    "        #savannah = vh.updateMask(lulc.eq(9))\n",
    "        #forest_evergreen = vh.updateMask(lulc.eq(2))\n",
    "        #forest_decisuous = vh.updateMask(lulc.eq(4))\n",
    "        #forest_mixed = vh.updateMask(lulc.eq(5))\n",
    "        #unclassified = vh.updateMask(lulc.eq(0))\n",
    "        \n",
    "        # Make a composite image of all of the landcover-inundation bands\n",
    "        com = ee.Image(water.copyProperties(image)).set('system:time_start', image.get('system:time_start')) \\\n",
    "                .addBands(ag_rice).addBands(ag_aquaculture).addBands(wetland_wetland) \\\n",
    "                .addBands(wetland_mangrove).addBands(wetland_flooded_forest) \\\n",
    "                 .rename(['water','ag_rice', \\\n",
    "                        'ag_aquaculture', 'wetland_wetland', \\\n",
    "                        'wetland_mangrove', 'wetland_flooded_forest']) \\\n",
    "\n",
    "        \n",
    "#                .addBands(wetland_mangrove).addBands(wetland_flooded_forest) #.addBands(savannah).addBands(ag_rice) \\\n",
    "#                 .addBands(ag_plantation).addBands(ag_pasture_crop).addBands(ag_aquaculture).addBands(wetland_wetland) \\\n",
    "#                 .addBands(wetland_mangrove).addBands(wetland_flooded_forest).addBands(ag_aquaculture) \\\n",
    "#            .rename(['forest_evergreen', 'forest_decisuous', \\\n",
    "#                         'forest_mixed', 'water', 'urban', 'barren', \\\n",
    "#                         'grass', 'savannah', 'ag_rice', 'ag_plantation', \\\n",
    "#                         'ag_pasture_crop', 'ag_aquaculture', 'wetland_wetland', \\\n",
    "#                         'wetland_mangrove', 'wetland_flooded_forest', 'unclassified'])\n",
    "\n",
    "        \n",
    "        # Reduce the image by summing the number of pixels classified as inundated across each landcover type\n",
    "        \n",
    "        reduced =com.reduceRegion(ee.Reducer.sum(), \\\n",
    "                  geometry=studyArea.geometry(), \\\n",
    "                  scale=100, \\\n",
    "                    maxPixels = 1e13)\n",
    "\n",
    "        return reduced\n",
    "    \n",
    "    # Make the image collection a list and map the open water classification routine across the list\n",
    "    descending = s1D.toList(s1D.size()).map(openWaterClass)\n",
    "    \n",
    "    #return the mapped image collection as a list and a list of dats of the image acquisitions\n",
    "    return descending, image_dates\n"
   ]
  },
  {
   "cell_type": "code",
   "execution_count": 257,
   "metadata": {},
   "outputs": [
    {
     "data": {
      "text/plain": [
       "'test_id'"
      ]
     },
     "execution_count": 257,
     "metadata": {},
     "output_type": "execute_result"
    }
   ],
   "source": [
    "export_region.get('basin_id').getInfo()"
   ]
  },
  {
   "cell_type": "code",
   "execution_count": 327,
   "metadata": {},
   "outputs": [],
   "source": [
    "# This function take a basin ID as it's input and maps the above functions across each year relevant to the Sentinel-1 record\n",
    "# The function saves a CSV of inundated area time series by landcover types to the local machine\n",
    "\n",
    "def runBasin(shape):\n",
    "    basin_id = shape.get('basin_id').getInfo()\n",
    "    print('processing '+ str(basin_id))\n",
    "    ee.Initialize()\n",
    "    \n",
    "    startTime = time.time()\n",
    "    logging.info('basin ID '+ str(basin_id)+ ' start time: ' + str(startTime))\n",
    "    \n",
    "    dest_path = os.path.join(results_dir, 'basin_id_' + str(basin_id) +'.csv')\n",
    "    \n",
    "    \n",
    "    # iterate over basin IDs and build a dataframe for each\n",
    "    \n",
    "    data_19 = run_sub_basin(shape, '2019-01-01', '2022-01-01')[0].getInfo()\n",
    "    i_dates_19 = run_sub_basin(shape,  '2019-01-01', '2022-01-01')[1].getInfo()\n",
    "    \n",
    "    time.sleep(1)\n",
    "    \n",
    "    data = run_sub_basin(shape, '2018-01-01', '2019-01-01')[0].getInfo()\n",
    "    i_dates = run_sub_basin(shape,  '2018-01-01', '2019-01-01')[1].getInfo()\n",
    "    \n",
    "    time.sleep(1)\n",
    "    \n",
    "    data_17 = run_sub_basin(shape, '2017-01-01', '2018-01-01')[0].getInfo()\n",
    "    i_dates_17 = run_sub_basin(shape,  '2017-01-01', '2018-01-01')[1].getInfo()\n",
    "    \n",
    "    time.sleep(1)\n",
    "    \n",
    "    data_16 = run_sub_basin(shape, '2016-01-01', '2017-01-01')[0].getInfo()\n",
    "    i_dates_16 = run_sub_basin(shape,  '2016-01-01', '2017-01-01')[1].getInfo()\n",
    "\n",
    "    df0 = pd.DataFrame(data_19)\n",
    "    df0['dates'] = pd.Series(i_dates_19)\n",
    "    df1 = pd.DataFrame(data)\n",
    "    df1['dates'] = pd.Series(i_dates)\n",
    "    df2 = pd.DataFrame(data_17)\n",
    "    df2['dates'] = pd.Series(i_dates_17)\n",
    "    df3 = pd.DataFrame(data_16)\n",
    "    df3['dates'] = pd.Series(i_dates_16)\n",
    "\n",
    "    test_time_series = df3.append(df2).append(df1).append(df0)\n",
    "    test_time_series['datetimes'] = pd.to_datetime(test_time_series['dates'], unit='ms')\n",
    "    test_time_series.set_index('datetimes', inplace=True)\n",
    "    test_time_series.drop(columns=['dates'], inplace=True)\n",
    "    \n",
    "    test_time_series.to_csv(dest_path)\n",
    "    \n",
    "    executionTime = (time.time() - startTime)\n",
    "    \n",
    "    logging.info('basin ID '+ str(basin_id)+ ' processed in seconds: ' + str(executionTime))\n",
    "    \n",
    "    print('basin ID '+ str(basin_id)+ ' processed in seconds: ' + str(executionTime))\n",
    "    time.sleep(2)\n",
    "    return 'completed basin id: ' + str(basin_id)\n"
   ]
  },
  {
   "cell_type": "code",
   "execution_count": 329,
   "metadata": {},
   "outputs": [
    {
     "name": "stdout",
     "output_type": "stream",
     "text": [
      "processing test_id\n",
      "basin ID test_id processed in seconds: 18.005082845687866\n"
     ]
    }
   ],
   "source": [
    "ee.Initialize()\n",
    "animated_region = runBasin(export_region)"
   ]
  },
  {
   "cell_type": "code",
   "execution_count": 330,
   "metadata": {},
   "outputs": [],
   "source": [
    "df = pd.read_csv(os.path.join(results_dir, 'basin_id_test_id.csv'), parse_dates=['datetimes']).set_index('datetimes')\n",
    "#df = df.loc[(df>29).any(axis=1)]"
   ]
  },
  {
   "cell_type": "code",
   "execution_count": 331,
   "metadata": {},
   "outputs": [
    {
     "data": {
      "image/png": "[encoded data removed]",
      "text/plain": [
       "<Figure size 432x288 with 1 Axes>"
      ]
     },
     "metadata": {
      "needs_background": "light"
     },
     "output_type": "display_data"
    }
   ],
   "source": [
    "df[['ag_aquaculture', 'wetland_wetland', 'water']].plot()\n",
    "plt.legend(['ag_aquaculture', 'wetland_wetland', 'water'], loc=3)\n",
    "plt.savefig(os.path.join(fig_dir, 'inundated_area_animation.png'), dpi=300, facecolor='white')"
   ]
  },
  {
   "cell_type": "code",
   "execution_count": 332,
   "metadata": {},
   "outputs": [
    {
     "name": "stdout",
     "output_type": "stream",
     "text": [
      "Generating LineChart, plotting ['ag_aquaculture', 'wetland_wetland', 'water']\n"
     ]
    },
    {
     "name": "stderr",
     "output_type": "stream",
     "text": [
      "/Users/corey/miniconda3/envs/research/lib/python3.8/site-packages/pandas_alive/_base_chart.py:458: UserWarning: FixedFormatter should only be used together with FixedLocator\n",
      "  ax.set_yticklabels(self.df.columns)\n",
      "/Users/corey/miniconda3/envs/research/lib/python3.8/site-packages/pandas_alive/_base_chart.py:459: UserWarning: FixedFormatter should only be used together with FixedLocator\n",
      "  ax.set_xticklabels([max_val] * len(ax.get_xticks()))\n",
      "/Users/corey/miniconda3/envs/research/lib/python3.8/site-packages/pandas_alive/charts.py:516: UserWarning: Discarding nonzero nanoseconds in conversion\n",
      "  super().set_x_y_limits(self.df, i, self.ax)\n"
     ]
    },
    {
     "data": {
      "text/plain": [
       "LineChart(df=                               ag_aquaculture  wetland_wetland   water\n",
       "datetimes                                                             \n",
       "2016-09-29 00:43:28.000000000           248.0          1766.00  3091.0\n",
       "2016-10-01 19:28:27.984375000           246.5          1772.00  3096.5\n",
       "2016-10-04 14:13:27.968750000           245.0          1778.00  3102.0\n",
       "2016-10-07 08:58:27.953125000           243.5          1784.00  3107.5\n",
       "2016-10-10 03:43:27.937500000           242.0          1790.00  3113.0\n",
       "...                                       ...              ...     ...\n",
       "2021-02-05 21:43:19.062500000           144.0          1727.00  2422.0\n",
       "2021-02-08 16:28:19.046875008           137.5          1350.25  1988.5\n",
       "2021-02-11 11:13:19.031250000           131.0           973.50  1555.0\n",
       "2021-02-14 05:58:19.015624992           124.5           596.75  1121.5\n",
       "2021-02-17 00:43:19.000000000           118.0           220.00   688.0\n",
       "\n",
       "[577 rows x 3 columns], interpolate_period=True, steps_per_period=4, period_length=500, period_fmt='%d/%m/%Y', figsize=array([6.5, 3.5]), title=None, fig=<Figure size 936x504 with 1 Axes>, cmap='dark24', tick_label_size=7, period_label=True, period_summary_func=None, fixed_max=False, dpi=144, writer=None, enable_progress_bar=False, kwargs={}, line_width=2, label_events=None, fill_under_line_color=None, add_legend=True)"
      ]
     },
     "execution_count": 332,
     "metadata": {},
     "output_type": "execute_result"
    }
   ],
   "source": [
    "import pandas_alive\n",
    "#video_sest = os.path.join()\n",
    "df[['ag_aquaculture', 'wetland_wetland', 'water']].plot_animated(kind='line',filename=\"total-population-over-time-line.gif\", interpolate_period=True, steps_per_period=4)\n",
    "\n"
   ]
  },
  {
   "cell_type": "code",
   "execution_count": 2,
   "metadata": {},
   "outputs": [
    {
     "ename": "ImportError",
     "evalue": "To use the imageio ffmpeg plugin you need to 'pip install imageio-ffmpeg'",
     "output_type": "error",
     "traceback": [
      "\u001b[0;31m---------------------------------------------------------------------------\u001b[0m",
      "\u001b[0;31mModuleNotFoundError\u001b[0m                       Traceback (most recent call last)",
      "\u001b[0;32m~/miniconda3/envs/research/lib/python3.8/site-packages/imageio/plugins/ffmpeg.py\u001b[0m in \u001b[0;36m_get_ffmpeg_api\u001b[0;34m()\u001b[0m\n\u001b[1;32m     62\u001b[0m         \u001b[0;32mtry\u001b[0m\u001b[0;34m:\u001b[0m\u001b[0;34m\u001b[0m\u001b[0;34m\u001b[0m\u001b[0m\n\u001b[0;32m---> 63\u001b[0;31m             \u001b[0;32mimport\u001b[0m \u001b[0mimageio_ffmpeg\u001b[0m\u001b[0;34m\u001b[0m\u001b[0;34m\u001b[0m\u001b[0m\n\u001b[0m\u001b[1;32m     64\u001b[0m         \u001b[0;32mexcept\u001b[0m \u001b[0mImportError\u001b[0m\u001b[0;34m:\u001b[0m\u001b[0;34m\u001b[0m\u001b[0;34m\u001b[0m\u001b[0m\n",
      "\u001b[0;31mModuleNotFoundError\u001b[0m: No module named 'imageio_ffmpeg'",
      "\nDuring handling of the above exception, another exception occurred:\n",
      "\u001b[0;31mImportError\u001b[0m                               Traceback (most recent call last)",
      "\u001b[0;32m<ipython-input-2-0342ca18ddba>\u001b[0m in \u001b[0;36m<module>\u001b[0;34m\u001b[0m\n\u001b[1;32m      1\u001b[0m \u001b[0;32mimport\u001b[0m \u001b[0mimageio\u001b[0m\u001b[0;34m\u001b[0m\u001b[0;34m\u001b[0m\u001b[0m\n\u001b[0;32m----> 2\u001b[0;31m \u001b[0mvid1\u001b[0m \u001b[0;34m=\u001b[0m \u001b[0mimageio\u001b[0m\u001b[0;34m.\u001b[0m\u001b[0mget_reader\u001b[0m\u001b[0;34m(\u001b[0m\u001b[0;34m'/Users/corey/Documents/Research/CHART/inundation/videos/clipped_reservoir_filling.mp4'\u001b[0m\u001b[0;34m)\u001b[0m\u001b[0;34m\u001b[0m\u001b[0;34m\u001b[0m\u001b[0m\n\u001b[0m",
      "\u001b[0;32m~/miniconda3/envs/research/lib/python3.8/site-packages/imageio/core/functions.py\u001b[0m in \u001b[0;36mget_reader\u001b[0;34m(uri, format, mode, **kwargs)\u001b[0m\n\u001b[1;32m    141\u001b[0m \u001b[0;34m\u001b[0m\u001b[0m\n\u001b[1;32m    142\u001b[0m     \u001b[0;31m# Return its reader object\u001b[0m\u001b[0;34m\u001b[0m\u001b[0;34m\u001b[0m\u001b[0;34m\u001b[0m\u001b[0m\n\u001b[0;32m--> 143\u001b[0;31m     \u001b[0;32mreturn\u001b[0m \u001b[0mformat\u001b[0m\u001b[0;34m.\u001b[0m\u001b[0mget_reader\u001b[0m\u001b[0;34m(\u001b[0m\u001b[0mrequest\u001b[0m\u001b[0;34m)\u001b[0m\u001b[0;34m\u001b[0m\u001b[0;34m\u001b[0m\u001b[0m\n\u001b[0m\u001b[1;32m    144\u001b[0m \u001b[0;34m\u001b[0m\u001b[0m\n\u001b[1;32m    145\u001b[0m \u001b[0;34m\u001b[0m\u001b[0m\n",
      "\u001b[0;32m~/miniconda3/envs/research/lib/python3.8/site-packages/imageio/core/format.py\u001b[0m in \u001b[0;36mget_reader\u001b[0;34m(self, request)\u001b[0m\n\u001b[1;32m    162\u001b[0m                 \u001b[0;34m\"Format %s cannot read in mode %r\"\u001b[0m \u001b[0;34m%\u001b[0m \u001b[0;34m(\u001b[0m\u001b[0mself\u001b[0m\u001b[0;34m.\u001b[0m\u001b[0mname\u001b[0m\u001b[0;34m,\u001b[0m \u001b[0mselect_mode\u001b[0m\u001b[0;34m)\u001b[0m\u001b[0;34m\u001b[0m\u001b[0;34m\u001b[0m\u001b[0m\n\u001b[1;32m    163\u001b[0m             )\n\u001b[0;32m--> 164\u001b[0;31m         \u001b[0;32mreturn\u001b[0m \u001b[0mself\u001b[0m\u001b[0;34m.\u001b[0m\u001b[0mReader\u001b[0m\u001b[0;34m(\u001b[0m\u001b[0mself\u001b[0m\u001b[0;34m,\u001b[0m \u001b[0mrequest\u001b[0m\u001b[0;34m)\u001b[0m\u001b[0;34m\u001b[0m\u001b[0;34m\u001b[0m\u001b[0m\n\u001b[0m\u001b[1;32m    165\u001b[0m \u001b[0;34m\u001b[0m\u001b[0m\n\u001b[1;32m    166\u001b[0m     \u001b[0;32mdef\u001b[0m \u001b[0mget_writer\u001b[0m\u001b[0;34m(\u001b[0m\u001b[0mself\u001b[0m\u001b[0;34m,\u001b[0m \u001b[0mrequest\u001b[0m\u001b[0;34m)\u001b[0m\u001b[0;34m:\u001b[0m\u001b[0;34m\u001b[0m\u001b[0;34m\u001b[0m\u001b[0m\n",
      "\u001b[0;32m~/miniconda3/envs/research/lib/python3.8/site-packages/imageio/core/format.py\u001b[0m in \u001b[0;36m__init__\u001b[0;34m(self, format, request)\u001b[0m\n\u001b[1;32m    212\u001b[0m             \u001b[0mself\u001b[0m\u001b[0;34m.\u001b[0m\u001b[0m_request\u001b[0m \u001b[0;34m=\u001b[0m \u001b[0mrequest\u001b[0m\u001b[0;34m\u001b[0m\u001b[0;34m\u001b[0m\u001b[0m\n\u001b[1;32m    213\u001b[0m             \u001b[0;31m# Open the reader/writer\u001b[0m\u001b[0;34m\u001b[0m\u001b[0;34m\u001b[0m\u001b[0;34m\u001b[0m\u001b[0m\n\u001b[0;32m--> 214\u001b[0;31m             \u001b[0mself\u001b[0m\u001b[0;34m.\u001b[0m\u001b[0m_open\u001b[0m\u001b[0;34m(\u001b[0m\u001b[0;34m**\u001b[0m\u001b[0mself\u001b[0m\u001b[0;34m.\u001b[0m\u001b[0mrequest\u001b[0m\u001b[0;34m.\u001b[0m\u001b[0mkwargs\u001b[0m\u001b[0;34m.\u001b[0m\u001b[0mcopy\u001b[0m\u001b[0;34m(\u001b[0m\u001b[0;34m)\u001b[0m\u001b[0;34m)\u001b[0m\u001b[0;34m\u001b[0m\u001b[0;34m\u001b[0m\u001b[0m\n\u001b[0m\u001b[1;32m    215\u001b[0m \u001b[0;34m\u001b[0m\u001b[0m\n\u001b[1;32m    216\u001b[0m         \u001b[0;34m@\u001b[0m\u001b[0mproperty\u001b[0m\u001b[0;34m\u001b[0m\u001b[0;34m\u001b[0m\u001b[0m\n",
      "\u001b[0;32m~/miniconda3/envs/research/lib/python3.8/site-packages/imageio/plugins/ffmpeg.py\u001b[0m in \u001b[0;36m_open\u001b[0;34m(self, loop, size, dtype, pixelformat, print_info, ffmpeg_params, input_params, output_params, fps)\u001b[0m\n\u001b[1;32m    258\u001b[0m         ):\n\u001b[1;32m    259\u001b[0m             \u001b[0;31m# Get generator functions\u001b[0m\u001b[0;34m\u001b[0m\u001b[0;34m\u001b[0m\u001b[0;34m\u001b[0m\u001b[0m\n\u001b[0;32m--> 260\u001b[0;31m             \u001b[0mself\u001b[0m\u001b[0;34m.\u001b[0m\u001b[0m_ffmpeg_api\u001b[0m \u001b[0;34m=\u001b[0m \u001b[0m_get_ffmpeg_api\u001b[0m\u001b[0;34m(\u001b[0m\u001b[0;34m)\u001b[0m\u001b[0;34m\u001b[0m\u001b[0;34m\u001b[0m\u001b[0m\n\u001b[0m\u001b[1;32m    261\u001b[0m             \u001b[0;31m# Process input args\u001b[0m\u001b[0;34m\u001b[0m\u001b[0;34m\u001b[0m\u001b[0;34m\u001b[0m\u001b[0m\n\u001b[1;32m    262\u001b[0m             \u001b[0mself\u001b[0m\u001b[0;34m.\u001b[0m\u001b[0m_arg_loop\u001b[0m \u001b[0;34m=\u001b[0m \u001b[0mbool\u001b[0m\u001b[0;34m(\u001b[0m\u001b[0mloop\u001b[0m\u001b[0;34m)\u001b[0m\u001b[0;34m\u001b[0m\u001b[0;34m\u001b[0m\u001b[0m\n",
      "\u001b[0;32m~/miniconda3/envs/research/lib/python3.8/site-packages/imageio/plugins/ffmpeg.py\u001b[0m in \u001b[0;36m_get_ffmpeg_api\u001b[0;34m()\u001b[0m\n\u001b[1;32m     63\u001b[0m             \u001b[0;32mimport\u001b[0m \u001b[0mimageio_ffmpeg\u001b[0m\u001b[0;34m\u001b[0m\u001b[0;34m\u001b[0m\u001b[0m\n\u001b[1;32m     64\u001b[0m         \u001b[0;32mexcept\u001b[0m \u001b[0mImportError\u001b[0m\u001b[0;34m:\u001b[0m\u001b[0;34m\u001b[0m\u001b[0;34m\u001b[0m\u001b[0m\n\u001b[0;32m---> 65\u001b[0;31m             raise ImportError(\n\u001b[0m\u001b[1;32m     66\u001b[0m                 \u001b[0;34m\"To use the imageio ffmpeg plugin you need to \"\u001b[0m\u001b[0;34m\u001b[0m\u001b[0;34m\u001b[0m\u001b[0m\n\u001b[1;32m     67\u001b[0m                 \u001b[0;34m\"'pip install imageio-ffmpeg'\"\u001b[0m\u001b[0;34m\u001b[0m\u001b[0;34m\u001b[0m\u001b[0m\n",
      "\u001b[0;31mImportError\u001b[0m: To use the imageio ffmpeg plugin you need to 'pip install imageio-ffmpeg'"
     ]
    }
   ],
   "source": [
    "\n",
    "import imageio\n",
    "vid1 = imageio.get_reader('/Users/corey/Documents/Research/CHART/inundation/videos/clipped_reservoir_filling.mp4')"
   ]
  },
  {
   "cell_type": "code",
   "execution_count": null,
   "metadata": {},
   "outputs": [],
   "source": [
    "# Combine gifs from GEE and pandas\n",
    "\n",
    "import imageio\n",
    "import numpy as np    \n",
    "\n",
    "#Create reader object for the gif\n",
    "gif1 = imageio.get_reader('inundated_area_animation.gif')\n",
    "gif2 = imageio.get_reader('/Users/corey/Documents/Research/CHART/inundation/videos/output.gif')\n",
    "\n",
    "#If they don't have the same number of frame take the shorter\n",
    "number_of_frames = min(gif1.get_length(), gif2.get_length()) \n",
    "print(number_of_frames)\n",
    "#Create writer object\n",
    "new_gif = imageio.get_writer('merged.gif')\n",
    "\n",
    "for frame_number in range(number_of_frames):\n",
    "    img1 = gif1.get_next_data()\n",
    "    img2 = gif2.get_next_data()\n",
    "    #here is the magic\n",
    "    new_image = np.hstack((img1, img2))\n",
    "    new_gif.append_data(new_image)\n",
    "\n",
    "gif1.close()\n",
    "gif2.close()    \n",
    "new_gif.close()\n"
   ]
  },
  {
   "cell_type": "code",
   "execution_count": 90,
   "metadata": {},
   "outputs": [],
   "source": [
    "# Request WBM discharge data from the ASRC servers\n",
    "\n",
    "url = \"https://chartows.environmentalcrossroads.net/chart/ows?service=WFS&version=2.0.0&request=GetFeature&typeName=chart:basinmouth_discharge_daily_terra-wbmsed-prist_01min&outputFormat=application/json&viewparams=date_min:2016-01-01;date_max:2019-12-31;sampleid_min:9;sampleid_max:9;\"\n",
    "wbm = requests.request(\"GET\", url,)\n",
    "wbm = pd.json_normalize(wbm.json()['features'])\n",
    "wbm['properties.date'] = wbm['properties.date'].str.replace('Z', '')\n",
    "wbm['datetimes'] = pd.to_datetime(wbm['properties.date'])\n",
    "wbm.set_index('datetimes', inplace=True)"
   ]
  },
  {
   "cell_type": "code",
   "execution_count": 160,
   "metadata": {},
   "outputs": [
    {
     "data": {
      "image/png": "[encoded data removed]",
      "text/plain": [
       "<Figure size 504x288 with 2 Axes>"
      ]
     },
     "metadata": {
      "needs_background": "light"
     },
     "output_type": "display_data"
    }
   ],
   "source": [
    "#Plot inundated area and discharge over time\n",
    "\n",
    "fig, ax = plt.subplots(figsize=(7, 4))\n",
    "\n",
    "ax2 = wbm['properties.Discharge'].plot(ax=ax, secondary_y=True, color='black', alpha= 0.5, linewidth=5)\n",
    "\n",
    "ax2.set_yscale('log')\n",
    "frame.resample('12D').sum().plot(ax = ax)\n",
    "ax.set_ylabel('pixel count')\n",
    "ax2.set_ylabel('Discharge (cms)')\n",
    "ax2.legend(['WBM Discharge'])\n",
    "#ax2.set_ylim(0, 14) \n",
    "ax.set_ylim(0, 65000)\n",
    "plt.title('Kollidam River Basin')\n",
    "\n",
    "plt.tight_layout()\n",
    "\n",
    "plt.savefig(os.path.join(fig_dir, 'kollidam_S1_comparison.png'), dpi=300, facecolor='white')"
   ]
  },
  {
   "cell_type": "code",
   "execution_count": null,
   "metadata": {},
   "outputs": [],
   "source": []
  }
 ],
 "metadata": {
  "kernelspec": {
   "display_name": "Python 3",
   "language": "python",
   "name": "python3"
  },
  "language_info": {
   "codemirror_mode": {
    "name": "ipython",
    "version": 3
   },
   "file_extension": ".py",
   "mimetype": "text/x-python",
   "name": "python",
   "nbconvert_exporter": "python",
   "pygments_lexer": "ipython3",
   "version": "3.8.2"
  }
 },
 "nbformat": 4,
 "nbformat_minor": 4
}
