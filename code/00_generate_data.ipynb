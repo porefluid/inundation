{
 "cells": [
  {
   "cell_type": "code",
   "execution_count": 1,
   "metadata": {},
   "outputs": [],
   "source": [
    "import ee\n",
    "import os\n",
    "import time\n",
    "import glob\n",
    "import logging\n",
    "import requests\n",
    "import threading\n",
    "import pandas as pd\n",
    "from tqdm import tqdm\n",
    "import matplotlib.pyplot as plt"
   ]
  },
  {
   "cell_type": "code",
   "execution_count": 2,
   "metadata": {},
   "outputs": [
    {
     "data": {
      "text/html": [
       "<p>To authorize access needed by Earth Engine, open the following\n",
       "        URL in a web browser and follow the instructions:</p>\n",
       "        <p><a href=https://accounts.google.com/o/oauth2/auth?client_id=517222506229-vsmmajv00ul0bs7p89v5m89qs8eb9359.apps.googleusercontent.com&scope=https%3A%2F%2Fwww.googleapis.com%2Fauth%2Fearthengine+https%3A%2F%2Fwww.googleapis.com%2Fauth%2Fdevstorage.full_control&redirect_uri=urn%3Aietf%3Awg%3Aoauth%3A2.0%3Aoob&response_type=code&code_challenge=_CHR4aCxIyoS2GBk2Kdt8xxWL8kAAG9vlz_4N50JrE4&code_challenge_method=S256>https://accounts.google.com/o/oauth2/auth?client_id=517222506229-vsmmajv00ul0bs7p89v5m89qs8eb9359.apps.googleusercontent.com&scope=https%3A%2F%2Fwww.googleapis.com%2Fauth%2Fearthengine+https%3A%2F%2Fwww.googleapis.com%2Fauth%2Fdevstorage.full_control&redirect_uri=urn%3Aietf%3Awg%3Aoauth%3A2.0%3Aoob&response_type=code&code_challenge=_CHR4aCxIyoS2GBk2Kdt8xxWL8kAAG9vlz_4N50JrE4&code_challenge_method=S256</a></p>\n",
       "        <p>The authorization workflow will generate a code, which you\n",
       "        should paste in the box below</p>\n",
       "        "
      ],
      "text/plain": [
       "<IPython.core.display.HTML object>"
      ]
     },
     "metadata": {},
     "output_type": "display_data"
    },
    {
     "name": "stdin",
     "output_type": "stream",
     "text": [
      "Enter verification code:  4/1AX4XfWhPXLUyShN4-SK5APHCJUk1qPtH0rqwlU6yBzqK6TZ7didHI19E16A\n"
     ]
    },
    {
     "name": "stdout",
     "output_type": "stream",
     "text": [
      "\n",
      "Successfully saved authorization token.\n"
     ]
    }
   ],
   "source": [
    "# Authenticate to earth engine\n",
    "\n",
    "ee.Authenticate()"
   ]
  },
  {
   "cell_type": "code",
   "execution_count": 3,
   "metadata": {},
   "outputs": [],
   "source": [
    "# Initialize earth engine connection\n",
    "\n",
    "ee.Initialize()"
   ]
  },
  {
   "cell_type": "code",
   "execution_count": 4,
   "metadata": {},
   "outputs": [],
   "source": [
    "# Set destination folder paths for results and figures\n",
    "\n",
    "results_dir = os.path.join(os.getcwd().replace('/code', ''), 'results')\n",
    "fig_dir = os.path.join(os.getcwd().replace('/code', ''), 'figures')"
   ]
  },
  {
   "cell_type": "markdown",
   "metadata": {},
   "source": [
    "### Import Sentinel-1 collection and watershed basin shapefile"
   ]
  },
  {
   "cell_type": "code",
   "execution_count": 5,
   "metadata": {},
   "outputs": [],
   "source": [
    "# Import image and feature colelctions\n",
    "\n",
    "s1 = ee.ImageCollection(\"COPERNICUS/S1_GRD\")\n",
    "basins = ee.FeatureCollection(\"users/coreyscher/se-asia_subbasin_01min\")\n",
    "lulc = ee.Image('users/coreyscher/all_lcmaps_v3_2018_proj')\n",
    "\n",
    "## create a log file to track progress\n",
    "\n",
    "logging.basicConfig(filename=\"logfilename.log\", level=logging.INFO)"
   ]
  },
  {
   "cell_type": "code",
   "execution_count": 6,
   "metadata": {},
   "outputs": [],
   "source": [
    "# LULC classes\n",
    "\n",
    "classes = {'forest_evergreen': 2,\n",
    "          'forest_decisuous': 4,\n",
    "          'forest_mixed': 5,\n",
    "          'water': 25,\n",
    "          'urban': 13,\n",
    "          'barren': 16,\n",
    "          'grass': 10,\n",
    "          'savannah' : 9,\n",
    "          'ag_rice': 17,\n",
    "          'ag_plantation': 18,\n",
    "          'ag_pasture_crop': 12,\n",
    "          'ag_aquaculture': 21,\n",
    "          'wetland_wetland': 11,\n",
    "          'wetland_mangrove': 19,\n",
    "          'wetland_flooded_forest': 20,\n",
    "          'unclassified': 0}"
   ]
  },
  {
   "cell_type": "code",
   "execution_count": 7,
   "metadata": {},
   "outputs": [],
   "source": [
    "## Set threshold variables \n",
    "\n",
    "threshold = -2\n",
    "vvOwThreshold = -18\n",
    "vhOwThreshold = -28\n",
    "connThreshold = 20"
   ]
  },
  {
   "cell_type": "code",
   "execution_count": 8,
   "metadata": {},
   "outputs": [],
   "source": [
    "## Get a list of basins to iterate over\n",
    "\n",
    "basins_ids = basins.aggregate_array('ID').getInfo()"
   ]
  },
  {
   "cell_type": "code",
   "execution_count": 9,
   "metadata": {},
   "outputs": [],
   "source": [
    "# Descending track algorithm\n",
    "\n",
    "result = None\n",
    "\n",
    "def run_sub_basin(basin_id, studyStart, studyEnd):\n",
    "    \n",
    "    results = []\n",
    "    studyArea = basins.filterMetadata('ID', 'equals', basin_id).first()\n",
    "    \n",
    "    # ----Separate S1 by orbit type ---------------------\n",
    "    s1A = s1.filterBounds(studyArea.geometry())\\\n",
    "    .filter(ee.Filter.listContains('transmitterReceiverPolarisation', 'VV'))\\\n",
    "    .filter(ee.Filter.listContains('transmitterReceiverPolarisation', 'VH'))\\\n",
    "    .filter(ee.Filter.eq('instrumentMode', 'IW')).filterDate(studyStart, studyEnd).filter(ee.Filter.eq('orbitProperties_pass', 'ASCENDING'))\n",
    "    s1D = s1.filterBounds(studyArea.geometry())\\\n",
    "    .filter(ee.Filter.listContains('transmitterReceiverPolarisation', 'VV'))\\\n",
    "    .filter(ee.Filter.listContains('transmitterReceiverPolarisation', 'VH'))\\\n",
    "    .filter(ee.Filter.eq('instrumentMode', 'IW')).filterDate(studyStart, studyEnd).filter(ee.Filter.eq('orbitProperties_pass', 'DESCENDING'))\n",
    "    # --------------------------------------------------------------\n",
    "    \n",
    "    image_dates = s1D.aggregate_array('system:time_start')\n",
    "    \n",
    "    # Map over images in collection and meadian window filter with 15 meter radius\n",
    "    def medianFilt(image):\n",
    "        return image.focalMedian(15, 'square', 'meters').clip(studyArea).copyProperties(image)\n",
    "    \n",
    "    ## map median filter over the input collection\n",
    "    \n",
    "    s1D = s1D.map(medianFilt)\n",
    "\n",
    "    # Calculate baseline statistics for annual backscatter\n",
    "    \n",
    "    def minMax(pol):\n",
    "        \n",
    "        #Define the collection\n",
    "        coll = s1D.select([pol])        \n",
    "        \n",
    "        #Turn the input polarization element into a string for concatenation\n",
    "        \n",
    "        pol = ee.String(pol)\n",
    "        \n",
    "        # Calculate min, max, mean, and stdDev backscatter by input polarization\n",
    "        mn = coll.min().rename([pol.cat('_min')])\n",
    "        mx = coll.max().rename([pol.cat('_max')])\n",
    "        mean = coll.mean().rename([pol.cat('_mean')])\n",
    "        std = coll.reduce(ee.Reducer.stdDev()).rename([pol.cat('_std')])\n",
    "        \n",
    "        #Calcaulate z score\n",
    "        \n",
    "        dif = mx.subtract(mn).rename([pol.cat('_dif')])\n",
    "        z = dif.divide(std).rename([pol.cat('_z')])\n",
    "        return mx.addBands([mn, mean, std, dif, z]).set({'pol': pol}).toFloat()\n",
    "    \n",
    "    # Apply minMax to each polarization in the collection\n",
    "    vh_stats = minMax('VH')\n",
    "    vv_stats = minMax('VV')\n",
    "\n",
    "    # Make a z-score mask for areas that do not have a minimum two standard deviations below the mean annual backscatter\n",
    "    vvZMask = vv_stats.select(['VV_z']).gt(2)\n",
    "    vhZMask = vh_stats.select(['VH_z']).gt(2)\n",
    "    \n",
    "    # Function for defining open water on a per-image basis\n",
    "    def openWaterClass(image):\n",
    "        \n",
    "        #set the image class for GEE\n",
    "        image = ee.Image(image)\n",
    "        \n",
    "        #Classify each image for open water based on the fixed threshold for each polarization\n",
    "        \n",
    "        # Comment out co-polarized data for testing with cross-polarized only\n",
    "        #vv = image.select(['VV']).lt(vvOwThreshold)\n",
    "        \n",
    "        vh = ee.Image(image).select(['VH']).lt(vhOwThreshold)\n",
    "        \n",
    "        #Construct a mask for \"open water\" areas that are smaller than the threshold for connected pixels\n",
    "        \n",
    "        #vvAreaMask = vv.connectedPixelCount(1024, 'false').gt(connThreshold)\n",
    "        vhAreaMask = vh.connectedPixelCount(1024, False).gt(connThreshold)\n",
    "\n",
    "        #vv = vv.updateMask(vv.neq(0)).updateMask(vvZMask).updateMask(vvAreaMask)\n",
    "        vh = vh.updateMask(vh.neq(0)).updateMask(vhZMask).updateMask(vhAreaMask)\n",
    "\n",
    "        #Make a band corresponding to each LULC class from the Boston dataset\n",
    "        \n",
    "        ag_rice = vh.updateMask(lulc.eq(17))\n",
    "        ag_aquaculture = vh.updateMask(lulc.eq(21))\n",
    "        wetland_wetland = vh.updateMask(lulc.eq(11))\n",
    "        wetland_mangrove = vh.updateMask(lulc.eq(19))\n",
    "        wetland_flooded_forest = vh.updateMask(lulc.eq(20))\n",
    "        water = vh.updateMask(lulc.eq(25))\n",
    "        \n",
    "        # For now, omit the land cover classes where we wouldn't expect regular, seasonal inundation\n",
    "        \n",
    "        #ag_plantation = vh.updateMask(lulc.eq(18))\n",
    "        #ag_pasture_crop = vh.updateMask(lulc.eq(12))\n",
    "        #urban = vh.updateMask(lulc.eq(13))\n",
    "        #barren = vh.updateMask(lulc.eq(16))\n",
    "        #grass = vh.updateMask(lulc.eq(10))\n",
    "        #savannah = vh.updateMask(lulc.eq(9))\n",
    "        #forest_evergreen = vh.updateMask(lulc.eq(2))\n",
    "        #forest_decisuous = vh.updateMask(lulc.eq(4))\n",
    "        #forest_mixed = vh.updateMask(lulc.eq(5))\n",
    "        #unclassified = vh.updateMask(lulc.eq(0))\n",
    "        \n",
    "        # Make a composite image of all of the landcover-inundation bands\n",
    "        com = ee.Image(water.copyProperties(image)).set('system:time_start', image.get('system:time_start')) \\\n",
    "                .addBands(ag_rice).addBands(ag_aquaculture).addBands(wetland_wetland) \\\n",
    "                .addBands(wetland_mangrove).addBands(wetland_flooded_forest) \\\n",
    "                 .rename(['water','ag_rice', \\\n",
    "                        'ag_aquaculture', 'wetland_wetland', \\\n",
    "                        'wetland_mangrove', 'wetland_flooded_forest']) \\\n",
    "\n",
    "        \n",
    "#                .addBands(wetland_mangrove).addBands(wetland_flooded_forest) #.addBands(savannah).addBands(ag_rice) \\\n",
    "#                 .addBands(ag_plantation).addBands(ag_pasture_crop).addBands(ag_aquaculture).addBands(wetland_wetland) \\\n",
    "#                 .addBands(wetland_mangrove).addBands(wetland_flooded_forest).addBands(ag_aquaculture) \\\n",
    "#            .rename(['forest_evergreen', 'forest_decisuous', \\\n",
    "#                         'forest_mixed', 'water', 'urban', 'barren', \\\n",
    "#                         'grass', 'savannah', 'ag_rice', 'ag_plantation', \\\n",
    "#                         'ag_pasture_crop', 'ag_aquaculture', 'wetland_wetland', \\\n",
    "#                         'wetland_mangrove', 'wetland_flooded_forest', 'unclassified'])\n",
    "\n",
    "        \n",
    "        # Reduce the image by summing the number of pixels classified as inundated across each landcover type\n",
    "        \n",
    "        reduced =com.reduceRegion(ee.Reducer.sum(),\n",
    "                  geometry=studyArea.geometry(),\n",
    "                  scale=100,\n",
    "                    maxPixels = 1e13)\n",
    "\n",
    "        return reduced\n",
    "    \n",
    "    # Make the image collection a list and map the open water classification routine across the list\n",
    "    descending = s1D.toList(s1D.size()).map(openWaterClass)\n",
    "    \n",
    "    #return the mapped image collection as a list and a list of dats of the image acquisitions\n",
    "    return descending, image_dates\n"
   ]
  },
  {
   "cell_type": "code",
   "execution_count": 10,
   "metadata": {},
   "outputs": [],
   "source": [
    "# This function take a basin ID as it's input and maps the above functions across each year relevant to the Sentinel-1 record\n",
    "# The function saves a CSV of inundated area time series by landcover types to the local machine\n",
    "\n",
    "def runBasin(basin_id):\n",
    "    print('processing '+ str(basin_id))\n",
    "    startTime = time.time()\n",
    "    dest_path = os.path.join(results_dir, 'basin_id_' + str(basin_id) +'.csv')\n",
    "    # iterate over basin IDs and build a dataframe for each\n",
    "    data = run_sub_basin(basin_id, '2018-01-01', '2019-01-01')[0].getInfo()\n",
    "    i_dates = run_sub_basin(basin_id,  '2018-01-01', '2019-01-01')[1].getInfo()\n",
    "    data_17 = run_sub_basin(basin_id, '2017-01-01', '2018-01-01')[0].getInfo()\n",
    "    i_dates_17 = run_sub_basin(basin_id,  '2017-01-01', '2018-01-01')[1].getInfo()\n",
    "    data_16 = run_sub_basin(basin_id, '2016-01-01', '2017-01-01')[0].getInfo()\n",
    "    i_dates_16 = run_sub_basin(basin_id,  '2016-01-01', '2017-01-01')[1].getInfo()\n",
    "\n",
    "    df1 = pd.DataFrame(data)\n",
    "    df1['dates'] = pd.Series(i_dates)\n",
    "    df2 = pd.DataFrame(data_17)\n",
    "    df2['dates'] = pd.Series(i_dates_17)\n",
    "    df3 = pd.DataFrame(data_16)\n",
    "    df3['dates'] = pd.Series(i_dates_16)\n",
    "\n",
    "    test_time_series = df3.append(df2).append(df1)\n",
    "    test_time_series['datetimes'] = pd.to_datetime(test_time_series['dates'], unit='ms')\n",
    "    test_time_series.set_index('datetimes', inplace=True)\n",
    "    test_time_series.drop(columns=['dates'], inplace=True)\n",
    "    \n",
    "    test_time_series.to_csv(dest_path)\n",
    "    \n",
    "    executionTime = (time.time() - startTime)\n",
    "\n",
    "    logging.info('basin ID '+ str(basin_id)+ ' processed in seconds: ' + str(executionTime))\n",
    "    \n",
    "    print('basin ID '+ str(basin_id)+ ' processed in seconds: ' + str(executionTime))\n",
    "    \n",
    "    return 'completed basin id: ' + str(basin_id)\n"
   ]
  },
  {
   "cell_type": "code",
   "execution_count": null,
   "metadata": {},
   "outputs": [
    {
     "name": "stdout",
     "output_type": "stream",
     "text": [
      "processing 1911\n",
      "basin ID 1911 processed in seconds: 5.778285980224609\n",
      "processing 1917\n",
      "basin ID 1917 processed in seconds: 4.179482936859131\n",
      "processing 1984\n",
      "basin ID 1984 processed in seconds: 6.134303092956543\n",
      "processing 1981\n",
      "basin ID 1981 processed in seconds: 3.0031752586364746\n",
      "processing 1930\n",
      "basin ID 1930 processed in seconds: 9.204733848571777\n",
      "processing 1979\n"
     ]
    }
   ],
   "source": [
    "# Test the algorithm over the Godavari region\n",
    "\n",
    "godavari = basins.filterMetadata('BASINNAME','equals', 'GHAASBasin9')\n",
    "godavari = godavari.aggregate_array('ID').getInfo()\n",
    "\n",
    "for i in godavari:\n",
    "    runBasin(i)\n",
    "    time.sleep(1)"
   ]
  },
  {
   "cell_type": "code",
   "execution_count": 141,
   "metadata": {},
   "outputs": [],
   "source": [
    "# Concatenate all of the sub-basin CSV files into a single data frame\n",
    "\n",
    "path = results_dir\n",
    "all_files = glob.glob(path + \"/*.csv\")\n",
    "\n",
    "li = []\n",
    "\n",
    "for filename in all_files:\n",
    "    df = pd.read_csv(filename, index_col=None, header=0, parse_dates=['datetimes'])\n",
    "    li.append(df)\n",
    "\n",
    "# Create the combined dataframe from the list of dataframes\n",
    "frame = pd.concat(li, axis=0, ignore_index=True).set_index('datetimes')"
   ]
  },
  {
   "cell_type": "code",
   "execution_count": 142,
   "metadata": {},
   "outputs": [
    {
     "data": {
      "image/png": "[encoded data removed]",
      "text/plain": [
       "<Figure size 432x288 with 1 Axes>"
      ]
     },
     "metadata": {
      "needs_background": "light"
     },
     "output_type": "display_data"
    }
   ],
   "source": [
    "# Plot the results\n",
    "\n",
    "fig, ax = plt.subplots(figsize=(6, 4))\n",
    "frame.resample('12D').sum().plot(ax = ax)\n",
    "ax.set_ylabel('pixel count')\n",
    "plt.tight_layout()\n",
    "\n",
    "plt.savefig(os.path.join(fig_dir, 'example_time_series_godavari.png'), dpi=300, facecolor='white')"
   ]
  },
  {
   "cell_type": "code",
   "execution_count": 143,
   "metadata": {},
   "outputs": [],
   "source": [
    "# Request WBM discharge data from the ASRC servers\n",
    "\n",
    "url = \"https://chartows.environmentalcrossroads.net/chart/ows?service=WFS&version=2.0.0&request=GetFeature&typeName=chart:basinmouth_discharge_daily_terra-wbmsed-prist_01min&outputFormat=application/json&viewparams=date_min:2016-01-01;date_max:2018-12-31;sampleid_min:9;sampleid_max:9;\"\n",
    "wbm = requests.request(\"GET\", url,)\n",
    "wbm = pd.json_normalize(wbm.json()['features'])\n",
    "wbm['properties.date'] = wbm['properties.date'].str.replace('Z', '')\n",
    "wbm['datetimes'] = pd.to_datetime(wbm['properties.date'])\n",
    "wbm.set_index('datetimes', inplace=True)"
   ]
  },
  {
   "cell_type": "code",
   "execution_count": 148,
   "metadata": {},
   "outputs": [
    {
     "data": {
      "image/png": "[encoded data removed]",
      "text/plain": [
       "<Figure size 432x216 with 2 Axes>"
      ]
     },
     "metadata": {
      "needs_background": "light"
     },
     "output_type": "display_data"
    }
   ],
   "source": [
    "#Plot inundated area and discharge over time\n",
    "\n",
    "fig, ax = plt.subplots(figsize=(6, 3))\n",
    "test_time_series.resample('12D').sum().plot(ax = ax)\n",
    "ax.set_ylabel('pixel count')\n",
    "\n",
    "ax2 = wbm['properties.Discharge'].plot(ax=ax, secondary_y=True)\n",
    "ax2.set_ylabel('Discharge (--)')\n",
    "ax2.legend(['WBM Dsicharge'])\n",
    "ax2.set_ylim(0, 3000) \n",
    "ax.set_ylim(0, 40000)\n",
    "\n",
    "plt.tight_layout()\n",
    "\n",
    "plt.savefig('example_time_series_chart.png', dpi=300, facecolor='white')"
   ]
  }
 ],
 "metadata": {
  "kernelspec": {
   "display_name": "Python 3",
   "language": "python",
   "name": "python3"
  },
  "language_info": {
   "codemirror_mode": {
    "name": "ipython",
    "version": 3
   },
   "file_extension": ".py",
   "mimetype": "text/x-python",
   "name": "python",
   "nbconvert_exporter": "python",
   "pygments_lexer": "ipython3",
   "version": "3.8.2"
  }
 },
 "nbformat": 4,
 "nbformat_minor": 4
}
