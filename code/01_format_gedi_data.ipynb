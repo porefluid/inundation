{
 "cells": [
  {
   "cell_type": "code",
   "execution_count": 3,
   "id": "45d9e707-063b-4025-832b-9402a46379b3",
   "metadata": {},
   "outputs": [],
   "source": [
    "import os\n",
    "from osgeo import gdal\n"
   ]
  },
  {
   "cell_type": "code",
   "execution_count": 5,
   "id": "b227a0ec-8d78-45a6-ba5e-50840ca0f7cd",
   "metadata": {},
   "outputs": [],
   "source": [
    "h5_data = '/Users/corey/Documents/Research/CHART/data/gedi/'\n",
    "gtif_dir = '/Users/corey/Documents/Research/CHART/data/gedi/geotifs/'"
   ]
  },
  {
   "cell_type": "code",
   "execution_count": 20,
   "id": "881b8176-9dfc-4b4e-a0c1-4bb7bbb7cc4a",
   "metadata": {},
   "outputs": [],
   "source": [
    "hdf_ds = gdal.Open(\"/Users/corey/Documents/Research/CHART/data/gedi/53363-18/2452792207/processed_GEDI02_A_2020237212425_O09635_02_T02961_02_003_01_V002.h5\", gdal.GA_ReadOnly)\n"
   ]
  },
  {
   "cell_type": "code",
   "execution_count": 41,
   "id": "a50fa3f1-6914-4c1d-8452-9e3bd3a822e0",
   "metadata": {},
   "outputs": [
    {
     "data": {
      "text/plain": [
       "array([[0., 0., 0., ..., 0., 0., 0.],\n",
       "       [0., 0., 0., ..., 0., 0., 0.],\n",
       "       [0., 0., 0., ..., 0., 0., 0.],\n",
       "       ...,\n",
       "       [0., 0., 0., ..., 0., 0., 0.],\n",
       "       [0., 0., 0., ..., 0., 0., 0.],\n",
       "       [0., 0., 0., ..., 0., 0., 0.]])"
      ]
     },
     "execution_count": 41,
     "metadata": {},
     "output_type": "execute_result"
    }
   ],
   "source": [
    "band_ds = gdal.Open(hdf_ds.GetSubDatasets()[12][0], gdal.GA_ReadOnly)\n",
    "band_ds.ReadAsArray()\n",
    "\n"
   ]
  },
  {
   "cell_type": "code",
   "execution_count": 44,
   "id": "4f8a453c-a6b4-42aa-b257-76a353d4e148",
   "metadata": {},
   "outputs": [
    {
     "ename": "ValueError",
     "evalue": "Received a NULL pointer.",
     "output_type": "error",
     "traceback": [
      "\u001b[0;31m---------------------------------------------------------------------------\u001b[0m",
      "\u001b[0;31mValueError\u001b[0m                                Traceback (most recent call last)",
      "\u001b[0;32m<ipython-input-44-9be6633f5efb>\u001b[0m in \u001b[0;36m<module>\u001b[0;34m\u001b[0m\n\u001b[0;32m----> 1\u001b[0;31m \u001b[0mgdal\u001b[0m\u001b[0;34m.\u001b[0m\u001b[0mTranslate\u001b[0m\u001b[0;34m(\u001b[0m\u001b[0;34m'/Users/corey/Documents/Research/CHART/data/gedi/geotifs/test.tif'\u001b[0m\u001b[0;34m,\u001b[0m \u001b[0;34m'HDF5:\\\"/Users/corey/Documents/Research/CHART/data/gedi/53363-18/2452792207/processed_GEDI02_A_2020237212425_O09635_02_T02961_02_003_01_V002.h5\"://image1/image_data'\u001b[0m\u001b[0;34m)\u001b[0m\u001b[0;34m\u001b[0m\u001b[0;34m\u001b[0m\u001b[0m\n\u001b[0m",
      "\u001b[0;32m~/miniconda3/envs/gdal_env/lib/python3.9/site-packages/osgeo/gdal.py\u001b[0m in \u001b[0;36mTranslate\u001b[0;34m(destName, srcDS, **kwargs)\u001b[0m\n\u001b[1;32m    420\u001b[0m         \u001b[0msrcDS\u001b[0m \u001b[0;34m=\u001b[0m \u001b[0mOpen\u001b[0m\u001b[0;34m(\u001b[0m\u001b[0msrcDS\u001b[0m\u001b[0;34m)\u001b[0m\u001b[0;34m\u001b[0m\u001b[0;34m\u001b[0m\u001b[0m\n\u001b[1;32m    421\u001b[0m \u001b[0;34m\u001b[0m\u001b[0m\n\u001b[0;32m--> 422\u001b[0;31m     \u001b[0;32mreturn\u001b[0m \u001b[0mTranslateInternal\u001b[0m\u001b[0;34m(\u001b[0m\u001b[0mdestName\u001b[0m\u001b[0;34m,\u001b[0m \u001b[0msrcDS\u001b[0m\u001b[0;34m,\u001b[0m \u001b[0mopts\u001b[0m\u001b[0;34m,\u001b[0m \u001b[0mcallback\u001b[0m\u001b[0;34m,\u001b[0m \u001b[0mcallback_data\u001b[0m\u001b[0;34m)\u001b[0m\u001b[0;34m\u001b[0m\u001b[0;34m\u001b[0m\u001b[0m\n\u001b[0m\u001b[1;32m    423\u001b[0m \u001b[0;34m\u001b[0m\u001b[0m\n\u001b[1;32m    424\u001b[0m def WarpOptions(options=None, format=None,\n",
      "\u001b[0;32m~/miniconda3/envs/gdal_env/lib/python3.9/site-packages/osgeo/gdal.py\u001b[0m in \u001b[0;36mTranslateInternal\u001b[0;34m(*args)\u001b[0m\n\u001b[1;32m   3379\u001b[0m \u001b[0;32mdef\u001b[0m \u001b[0mTranslateInternal\u001b[0m\u001b[0;34m(\u001b[0m\u001b[0;34m*\u001b[0m\u001b[0margs\u001b[0m\u001b[0;34m)\u001b[0m\u001b[0;34m:\u001b[0m\u001b[0;34m\u001b[0m\u001b[0;34m\u001b[0m\u001b[0m\n\u001b[1;32m   3380\u001b[0m     \u001b[0;34m\"\"\"TranslateInternal(char const * dest, Dataset dataset, GDALTranslateOptions translateOptions, GDALProgressFunc callback=0, void * callback_data=None) -> Dataset\"\"\"\u001b[0m\u001b[0;34m\u001b[0m\u001b[0;34m\u001b[0m\u001b[0m\n\u001b[0;32m-> 3381\u001b[0;31m     \u001b[0;32mreturn\u001b[0m \u001b[0m_gdal\u001b[0m\u001b[0;34m.\u001b[0m\u001b[0mTranslateInternal\u001b[0m\u001b[0;34m(\u001b[0m\u001b[0;34m*\u001b[0m\u001b[0margs\u001b[0m\u001b[0;34m)\u001b[0m\u001b[0;34m\u001b[0m\u001b[0;34m\u001b[0m\u001b[0m\n\u001b[0m\u001b[1;32m   3382\u001b[0m \u001b[0;32mclass\u001b[0m \u001b[0mGDALWarpAppOptions\u001b[0m\u001b[0;34m(\u001b[0m\u001b[0m_object\u001b[0m\u001b[0;34m)\u001b[0m\u001b[0;34m:\u001b[0m\u001b[0;34m\u001b[0m\u001b[0;34m\u001b[0m\u001b[0m\n\u001b[1;32m   3383\u001b[0m     \u001b[0;34m\"\"\"Proxy of C++ GDALWarpAppOptions class.\"\"\"\u001b[0m\u001b[0;34m\u001b[0m\u001b[0;34m\u001b[0m\u001b[0m\n",
      "\u001b[0;31mValueError\u001b[0m: Received a NULL pointer."
     ]
    }
   ],
   "source": [
    "gdal.Translate('/Users/corey/Documents/Research/CHART/data/gedi/geotifs/test.tif', 'HDF5:\\\"/Users/corey/Documents/Research/CHART/data/gedi/53363-18/2452792207/processed_GEDI02_A_2020237212425_O09635_02_T02961_02_003_01_V002.h5\"://image1/image_data')"
   ]
  },
  {
   "cell_type": "code",
   "execution_count": 19,
   "id": "c3ee54f1-58b9-4710-9973-08a6aac392ad",
   "metadata": {},
   "outputs": [
    {
     "name": "stdout",
     "output_type": "stream",
     "text": [
      "/Users/corey/Documents/Research/CHART/data/gedi/53363-18/2452792207/processed_GEDI02_A_2020237212425_O09635_02_T02961_02_003_01_V002.h5\n",
      "/Users/corey/Documents/Research/CHART/data/gedi/53363-18/2452801443/processed_GEDI02_A_2020239055507_O09656_03_T04910_02_003_01_V002.h5\n",
      "/Users/corey/Documents/Research/CHART/data/gedi/53363-18/2452830794/processed_GEDI02_A_2020241195044_O09696_02_T10229_02_003_01_V002.h5\n",
      "/Users/corey/Documents/Research/CHART/data/gedi/53363-18/2452765097/processed_GEDI02_A_2020235072846_O09595_03_T02064_02_003_01_V002.h5\n",
      "/Users/corey/Documents/Research/CHART/data/gedi/53363-20/2470761013/processed_GEDI02_A_2020254234011_O09900_03_T06486_02_003_02_V002.h5\n",
      "/Users/corey/Documents/Research/CHART/data/gedi/53363-20/2470840795/processed_GEDI02_A_2020261120337_O10001_02_T08653_02_003_02_V002.h5\n",
      "/Users/corey/Documents/Research/CHART/data/gedi/53363-20/2470809906/processed_GEDI02_A_2020258220725_O09961_03_T10755_02_003_02_V002.h5\n",
      "/Users/corey/Documents/Research/CHART/data/gedi/53363-20/2470860420/processed_GEDI02_A_2020262203436_O10022_03_T07756_02_003_02_V002.h5\n",
      "/Users/corey/Documents/Research/CHART/data/gedi/53363-16/2452569405/processed_GEDI02_A_2020219134305_O09351_03_T03334_02_003_01_V002.h5\n",
      "/Users/corey/Documents/Research/CHART/data/gedi/53363-16/2452602067/processed_GEDI02_A_2020222033847_O09391_02_T00115_02_003_01_V002.h5\n",
      "/Users/corey/Documents/Research/CHART/data/gedi/53363-16/2452617230/processed_GEDI02_A_2020223120932_O09412_03_T03181_02_003_01_V002.h5\n",
      "/Users/corey/Documents/Research/CHART/data/gedi/53363-16/2452530469/processed_GEDI02_A_2020218051220_O09330_02_T01385_02_003_01_V002.h5\n",
      "/Users/corey/Documents/Research/CHART/data/gedi/53363-10/2445502462/processed_GEDI02_A_2020102120229_O07536_03_T04604_02_003_01_V002.h5\n",
      "/Users/corey/Documents/Research/CHART/data/gedi/53363-10/2445529880/processed_GEDI02_A_2020105015921_O07576_02_T01232_02_003_01_V002.h5\n",
      "/Users/corey/Documents/Research/CHART/data/gedi/53363-10/2445479925/processed_GEDI02_A_2020101033110_O07515_02_T01538_02_003_01_V002.h5\n",
      "/Users/corey/Documents/Research/CHART/data/gedi/53363-10/2445410479/processed_GEDI02_A_2020097050300_O07454_02_T00115_02_003_01_V002.h5\n",
      "/Users/corey/Documents/Research/CHART/data/gedi/53363-17/2452670877/processed_GEDI02_A_2020227103558_O09473_03_T04910_02_003_01_V002.h5\n",
      "/Users/corey/Documents/Research/CHART/data/gedi/53363-17/2452752977/processed_GEDI02_A_2020233225803_O09574_02_T00268_02_003_01_V002.h5\n",
      "/Users/corey/Documents/Research/CHART/data/gedi/53363-17/2452729810/processed_GEDI02_A_2020231090223_O09534_03_T03334_02_003_01_V002.h5\n",
      "/Users/corey/Documents/Research/CHART/data/gedi/53363-17/2452706242/processed_GEDI02_A_2020230003139_O09513_02_T04537_02_003_01_V002.h5\n",
      "/Users/corey/Documents/Research/CHART/data/gedi/53363-17/2452653321/processed_GEDI02_A_2020226020514_O09452_02_T02961_02_003_01_V002.h5\n",
      "/Users/corey/Documents/Research/CHART/data/gedi/53363-21/2470931226/processed_GEDI02_A_2020273072610_O10184_02_T06924_02_003_02_V002.h5\n",
      "/Users/corey/Documents/Research/CHART/data/gedi/53363-21/2470891466/processed_GEDI02_A_2020266190147_O10083_03_T09026_02_003_02_V002.h5\n",
      "/Users/corey/Documents/Research/CHART/data/gedi/53363-21/2470904390/processed_GEDI02_A_2020269085823_O10123_02_T07077_02_003_02_V002.h5\n",
      "/Users/corey/Documents/Research/CHART/data/gedi/53363-21/2470915301/processed_GEDI02_A_2020270172935_O10144_03_T06027_02_003_02_V002.h5\n",
      "/Users/corey/Documents/Research/CHART/data/gedi/53363-21/2470879132/processed_GEDI02_A_2020265103048_O10062_02_T05807_02_003_02_V002.h5\n",
      "/Users/corey/Documents/Research/CHART/data/gedi/53363-19/2452869420/processed_GEDI02_A_2020245181701_O09757_02_T07383_02_003_01_V002.h5\n",
      "/Users/corey/Documents/Research/CHART/data/gedi/53363-19/2470714308/processed_GEDI02_A_2020251011355_O09839_03_T07909_02_003_02_V002.h5\n",
      "/Users/corey/Documents/Research/CHART/data/gedi/53363-19/2470682499/processed_GEDI02_A_2020247024741_O09778_03_T09179_02_003_02_V002.h5\n",
      "/Users/corey/Documents/Research/CHART/data/gedi/53363-19/2452847948/processed_GEDI02_A_2020243042126_O09717_03_T06333_02_003_01_V002.h5\n",
      "/Users/corey/Documents/Research/CHART/data/gedi/53363-6/2440516413/processed_GEDI02_A_2019318135438_O05227_02_T04384_02_003_01_V002.h5\n",
      "/Users/corey/Documents/Research/CHART/data/gedi/53363-6/2442009058/processed_GEDI02_A_2019345032409_O05639_02_T05654_02_003_01_V002.h5\n",
      "/Users/corey/Documents/Research/CHART/data/gedi/53363-6/2440502722/processed_GEDI02_A_2019316000058_O05187_03_T00182_02_003_01_V002.h5\n",
      "/Users/corey/Documents/Research/CHART/data/gedi/53363-6/2440523086/processed_GEDI02_A_2019319222420_O05248_03_T02217_02_003_01_V002.h5\n",
      "/Users/corey/Documents/Research/CHART/data/gedi/53363-9/2444245184/processed_GEDI02_A_2020039125410_O06560_03_T00947_02_003_01_V002.h5\n",
      "/Users/corey/Documents/Research/CHART/data/gedi/53363-9/2444207736/processed_GEDI02_A_2020035142741_O06499_03_T05063_02_003_01_V002.h5\n",
      "/Users/corey/Documents/Research/CHART/data/gedi/53363-9/2445332748/processed_GEDI02_A_2020094150611_O07414_03_T02217_02_003_01_V002.h5\n",
      "/Users/corey/Documents/Research/CHART/data/gedi/53363-9/2444355532/processed_GEDI02_A_2020043112038_O06621_03_T00794_02_003_01_V002.h5\n",
      "/Users/corey/Documents/Research/CHART/data/gedi/53363-7/2442287665/processed_GEDI02_A_2020010152250_O06112_02_T05195_02_003_01_V002.h5\n",
      "/Users/corey/Documents/Research/CHART/data/gedi/53363-7/2443934143/processed_GEDI02_A_2020018121245_O06234_02_T04078_02_003_01_V002.h5\n",
      "/Users/corey/Documents/Research/CHART/data/gedi/53363-7/2443172355/processed_GEDI02_A_2020015221802_O06194_03_T03028_02_003_01_V002.h5\n",
      "/Users/corey/Documents/Research/CHART/data/gedi/53363-7/2442391613/processed_GEDI02_A_2020014134749_O06173_02_T01079_02_003_01_V002.h5\n",
      "/Users/corey/Documents/Research/CHART/data/gedi/53363-23/2471355517/processed_GEDI02_A_2020286111803_O10388_03_T08567_02_003_02_V002.h5\n",
      "/Users/corey/Documents/Research/CHART/data/gedi/53363-23/2471410349/processed_GEDI02_A_2020292233917_O10489_02_T08347_02_003_02_V002.h5\n",
      "/Users/corey/Documents/Research/CHART/data/gedi/53363-23/2471342430/processed_GEDI02_A_2020285024730_O10367_02_T11040_02_003_02_V002.h5\n",
      "/Users/corey/Documents/Research/CHART/data/gedi/53363-23/2471372658/processed_GEDI02_A_2020290094358_O10449_03_T07297_02_003_02_V002.h5\n",
      "/Users/corey/Documents/Research/CHART/data/gedi/53363-24/2471457773/processed_GEDI02_A_2020296220509_O10550_02_T11346_02_003_02_V002.h5\n",
      "/Users/corey/Documents/Research/CHART/data/gedi/53363-24/2471483273/processed_GEDI02_A_2020298063541_O10571_03_T08873_02_003_02_V002.h5\n",
      "/Users/corey/Documents/Research/CHART/data/gedi/53363-24/2471433249/processed_GEDI02_A_2020294080950_O10510_03_T10296_02_003_02_V002.h5\n",
      "/Users/corey/Documents/Research/CHART/data/gedi/53363-12/2450359992/processed_GEDI02_A_2020122041619_O07841_03_T04604_02_003_01_V002.h5\n",
      "/Users/corey/Documents/Research/CHART/data/gedi/53363-12/2450331539/processed_GEDI02_A_2020118055030_O07780_03_T04451_02_003_01_V002.h5\n",
      "/Users/corey/Documents/Research/CHART/data/gedi/53363-12/2450324276/processed_GEDI02_A_2020116211957_O07759_02_T03925_02_003_01_V002.h5\n",
      "/Users/corey/Documents/Research/CHART/data/gedi/53363-12/2450349777/processed_GEDI02_A_2020120194548_O07820_02_T01232_02_003_01_V002.h5\n",
      "/Users/corey/Documents/Research/CHART/data/gedi/53363-15/2452504726/processed_GEDI02_A_2020214064548_O09269_02_T04231_02_003_01_V002.h5\n",
      "/Users/corey/Documents/Research/CHART/data/gedi/53363-15/2452473895/processed_GEDI02_A_2020210081942_O09208_02_T02808_02_003_01_V002.h5\n",
      "/Users/corey/Documents/Research/CHART/data/gedi/53363-15/2452483735/processed_GEDI02_A_2020211165002_O09229_03_T04757_02_003_01_V002.h5\n",
      "/Users/corey/Documents/Research/CHART/data/gedi/53363-15/2452454902/processed_GEDI02_A_2020207182449_O09168_03_T03028_02_003_01_V002.h5\n",
      "/Users/corey/Documents/Research/CHART/data/gedi/53363-14/2452444692/processed_GEDI02_A_2020206095431_O09147_02_T02655_02_003_01_V002.h5\n",
      "/Users/corey/Documents/Research/CHART/data/gedi/53363-14/2452426299/processed_GEDI02_A_2020203195941_O09107_03_T04298_02_003_01_V002.h5\n",
      "/Users/corey/Documents/Research/CHART/data/gedi/53363-14/2451398215/processed_GEDI02_A_2020137215909_O08085_03_T03640_02_003_01_V002.h5\n",
      "/Users/corey/Documents/Research/CHART/data/gedi/53363-14/2452413309/processed_GEDI02_A_2020202112924_O09086_02_T05195_02_003_01_V002.h5\n",
      "/Users/corey/Documents/Research/CHART/data/gedi/53363-14/2450481923/processed_GEDI02_A_2020133233329_O08024_03_T03487_02_003_01_V002.h5\n",
      "/Users/corey/Documents/Research/CHART/data/gedi/53363-13/2450378597/processed_GEDI02_A_2020124181134_O07881_02_T05654_02_003_01_V002.h5\n",
      "/Users/corey/Documents/Research/CHART/data/gedi/53363-13/2450390678/processed_GEDI02_A_2020126024204_O07902_03_T01911_02_003_01_V002.h5\n",
      "/Users/corey/Documents/Research/CHART/data/gedi/53363-13/2450417478/processed_GEDI02_A_2020128163718_O07942_02_T04384_02_003_01_V002.h5\n",
      "/Users/corey/Documents/Research/CHART/data/gedi/53363-13/2450447116/processed_GEDI02_A_2020130010748_O07963_03_T02064_02_003_01_V002.h5\n",
      "/Users/corey/Documents/Research/CHART/data/gedi/53363-25/2479380313/processed_GEDI02_A_2020270172935_O10144_03_T06027_02_003_02_V002_1.h5\n",
      "/Users/corey/Documents/Research/CHART/data/gedi/53363-25/2471520294/processed_GEDI02_A_2020302050128_O10632_03_T06180_02_003_02_V002.h5\n",
      "/Users/corey/Documents/Research/CHART/data/gedi/53363-25/2471502799/processed_GEDI02_A_2020300203058_O10611_02_T09923_02_003_02_V002.h5\n",
      "/Users/corey/Documents/Research/CHART/data/gedi/53363-22/2471314925/processed_GEDI02_A_2020282125209_O10327_03_T09990_02_003_02_V002.h5\n",
      "/Users/corey/Documents/Research/CHART/data/gedi/53363-22/2471297567/processed_GEDI02_A_2020281042129_O10306_02_T06618_02_003_02_V002.h5\n",
      "/Users/corey/Documents/Research/CHART/data/gedi/53363-22/2470945227/processed_GEDI02_A_2020274155720_O10205_03_T05874_02_003_02_V002.h5\n",
      "/Users/corey/Documents/Research/CHART/data/gedi/53363-22/2471267337/processed_GEDI02_A_2020278142500_O10266_03_T05721_02_003_02_V002.h5\n",
      "/Users/corey/Documents/Research/CHART/data/gedi/53363-22/2471255081/processed_GEDI02_A_2020277055351_O10245_02_T08194_02_003_02_V002.h5\n",
      "/Users/corey/Documents/Research/CHART/data/gedi/53363-5/2432675373/processed_GEDI02_A_2019269092400_O04464_02_T04231_02_003_01_V002.h5\n",
      "/Users/corey/Documents/Research/CHART/data/gedi/53363-5/2439618523/processed_GEDI02_A_2019292002800_O04815_02_T03925_02_003_01_V002.h5\n",
      "/Users/corey/Documents/Research/CHART/data/gedi/53363-5/2440470442/processed_GEDI02_A_2019314153117_O05166_02_T05348_02_003_01_V002.h5\n",
      "/Users/corey/Documents/Research/CHART/data/gedi/53363-5/2439638940/processed_GEDI02_A_2019293085725_O04836_03_T00335_02_003_01_V002.h5\n",
      "/Users/corey/Documents/Research/CHART/data/gedi/53363-2/2432538683/processed_GEDI02_A_2019162035255_O02800_02_T01691_02_003_01_V002.h5\n",
      "/Users/corey/Documents/Research/CHART/data/gedi/53363-2/2432561348/processed_GEDI02_A_2019174080623_O02989_03_T02064_02_003_01_V002.h5\n",
      "/Users/corey/Documents/Research/CHART/data/gedi/53363-2/2432567476/processed_GEDI02_A_2019198133039_O03365_02_T02502_02_003_01_V002.h5\n",
      "/Users/corey/Documents/Research/CHART/data/gedi/53363-2/2432517415/processed_GEDI02_A_2019148181622_O02592_03_T03181_02_003_01_V002.h5\n",
      "/Users/corey/Documents/Research/CHART/data/gedi/53363-3/2432581432/processed_GEDI02_A_2019185035138_O03157_03_T04451_02_003_01_V002.h5\n",
      "/Users/corey/Documents/Research/CHART/data/gedi/53363-3/2432615062/processed_GEDI02_A_2019225115305_O03783_03_T04298_02_003_01_V002.h5\n",
      "/Users/corey/Documents/Research/CHART/data/gedi/53363-3/2432615657/processed_GEDI02_A_2019228014445_O03823_02_T02961_02_003_01_V002.h5\n",
      "/Users/corey/Documents/Research/CHART/data/gedi/53363-3/2432601660/processed_GEDI02_A_2019214160606_O03615_03_T03487_02_003_02_V002.h5\n",
      "/Users/corey/Documents/Research/CHART/data/gedi/53363-3/2432570513/processed_GEDI02_A_2019199215905_O03386_03_T01911_02_003_02_V002.h5\n",
      "/Users/corey/Documents/Research/CHART/data/gedi/53363-4/2432637449/processed_GEDI02_A_2019265110102_O04403_02_T00926_02_003_01_V002.h5\n",
      "/Users/corey/Documents/Research/CHART/data/gedi/53363-4/2432616337/processed_GEDI02_A_2019229101356_O03844_03_T02370_02_003_01_V002.h5\n",
      "/Users/corey/Documents/Research/CHART/data/gedi/53363-4/2432640637/processed_GEDI02_A_2019266193035_O04424_03_T02875_02_003_01_V002.h5\n",
      "/Users/corey/Documents/Research/CHART/data/gedi/53363-4/2432629936/processed_GEDI02_A_2019270175333_O04485_03_T04910_02_003_01_V002.h5\n",
      "/Users/corey/Documents/Research/CHART/data/gedi/53363-4/2432666795/processed_GEDI02_A_2019248025112_O04134_03_T00641_02_003_01_V002.h5\n"
     ]
    }
   ],
   "source": [
    "kwargs = {\n",
    "'format': 'GTiff'\n",
    "}\n",
    "\n",
    "for j, f, k in os.walk(h5_data):\n",
    "    if k !=['.DS_Store']:\n",
    "        if k:\n",
    "            for i in k:\n",
    "                path = os.path.join(j, i)\n",
    "                #hdf_ds = gdal.Open(path, gdal.GA_ReadOnly)\n",
    "                #band_ds = gdal.Open(hdf_ds.GetSubDatasets()[:][0], gdal.GA_ReadOnly)\n",
    "                #array = band_ds.ReadAsArray()\n",
    "                \n",
    "                fn = 'HDF5:\\\"RAD_NL25_PCP_NA_202101080825.h5\\\"://image1/image_data'\n",
    "                dst_fn = os.path.join(gtif_dir, f_name)\n",
    "\n",
    "                ds = gdal.Translate(dst_fn, fn, **kwargs)\n",
    "                ds = None\n",
    "\n",
    "\n"
   ]
  },
  {
   "cell_type": "code",
   "execution_count": null,
   "id": "e8f35338-7496-46a4-aedd-073b20024af8",
   "metadata": {},
   "outputs": [],
   "source": []
  }
 ],
 "metadata": {
  "kernelspec": {
   "display_name": "Python 3",
   "language": "python",
   "name": "python3"
  },
  "language_info": {
   "codemirror_mode": {
    "name": "ipython",
    "version": 3
   },
   "file_extension": ".py",
   "mimetype": "text/x-python",
   "name": "python",
   "nbconvert_exporter": "python",
   "pygments_lexer": "ipython3",
   "version": "3.8.2"
  }
 },
 "nbformat": 4,
 "nbformat_minor": 5
}
